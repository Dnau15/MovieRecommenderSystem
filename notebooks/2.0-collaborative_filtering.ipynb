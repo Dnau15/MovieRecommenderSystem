{
  "cells": [
    {
      "cell_type": "code",
      "execution_count": 1,
      "id": "481d4f24",
      "metadata": {
        "id": "481d4f24",
        "outputId": "74deb4f2-78bf-4d88-a952-b8349d8de91d"
      },
      "outputs": [],
      "source": [
        "import pandas as pd\n",
        "import numpy as np\n",
        "from sklearn import preprocessing\n",
        "from sklearn.model_selection import train_test_split\n",
        "import torch\n",
        "import torch.nn as nn\n",
        "import matplotlib.pyplot as plt\n",
        "from torch.utils.data import Dataset, DataLoader\n",
        "import random\n",
        "from tabulate import tabulate"
      ]
    },
    {
      "cell_type": "code",
      "execution_count": 2,
      "metadata": {},
      "outputs": [],
      "source": [
        "# Manual seeding for reproducibility\n",
        "seed = 42\n",
        "random.seed(seed)\n",
        "np.random.seed(seed)\n",
        "torch.manual_seed(seed)\n",
        "torch.cuda.manual_seed(seed)"
      ]
    },
    {
      "cell_type": "code",
      "execution_count": 3,
      "id": "7ca37333",
      "metadata": {
        "id": "7ca37333"
      },
      "outputs": [
        {
          "name": "stdout",
          "output_type": "stream",
          "text": [
            "cuda\n"
          ]
        }
      ],
      "source": [
        "# Use cuda if available else use cpu\n",
        "device = torch.device('cuda' if torch.cuda.is_available() else 'cpu')\n",
        "print(device)"
      ]
    },
    {
      "cell_type": "code",
      "execution_count": 4,
      "id": "f10f6b56",
      "metadata": {
        "id": "f10f6b56"
      },
      "outputs": [],
      "source": [
        "# Let's read user data file\n",
        "user_data = pd.read_csv(\n",
        "    \"/home/dmitrii/vscode_projects/PMLDL/Assignment2/data/raw/ml-100k/u.data\", \n",
        "    sep='\\t',\n",
        "    names=['user_id', 'movie_id', 'rating', 'timestamp']\n",
        ")"
      ]
    },
    {
      "cell_type": "code",
      "execution_count": 5,
      "metadata": {},
      "outputs": [
        {
          "data": {
            "text/html": [
              "<div>\n",
              "<style scoped>\n",
              "    .dataframe tbody tr th:only-of-type {\n",
              "        vertical-align: middle;\n",
              "    }\n",
              "\n",
              "    .dataframe tbody tr th {\n",
              "        vertical-align: top;\n",
              "    }\n",
              "\n",
              "    .dataframe thead th {\n",
              "        text-align: right;\n",
              "    }\n",
              "</style>\n",
              "<table border=\"1\" class=\"dataframe\">\n",
              "  <thead>\n",
              "    <tr style=\"text-align: right;\">\n",
              "      <th></th>\n",
              "      <th>movie_id</th>\n",
              "      <th>movie_title</th>\n",
              "      <th>release_date</th>\n",
              "      <th>video_release_date,</th>\n",
              "      <th>imdb_url</th>\n",
              "      <th>unknown</th>\n",
              "      <th>Action</th>\n",
              "      <th>Adventure</th>\n",
              "      <th>Animation</th>\n",
              "      <th>Children's</th>\n",
              "      <th>...</th>\n",
              "      <th>Fantasy</th>\n",
              "      <th>Film-Noir</th>\n",
              "      <th>Horror</th>\n",
              "      <th>Musical</th>\n",
              "      <th>Mystery</th>\n",
              "      <th>Romance</th>\n",
              "      <th>Sci-Fi</th>\n",
              "      <th>Thriller</th>\n",
              "      <th>War</th>\n",
              "      <th>Western</th>\n",
              "    </tr>\n",
              "  </thead>\n",
              "  <tbody>\n",
              "    <tr>\n",
              "      <th>0</th>\n",
              "      <td>1</td>\n",
              "      <td>Toy Story (1995)</td>\n",
              "      <td>01-Jan-1995</td>\n",
              "      <td>NaN</td>\n",
              "      <td>http://us.imdb.com/M/title-exact?Toy%20Story%2...</td>\n",
              "      <td>0</td>\n",
              "      <td>0</td>\n",
              "      <td>0</td>\n",
              "      <td>1</td>\n",
              "      <td>1</td>\n",
              "      <td>...</td>\n",
              "      <td>0</td>\n",
              "      <td>0</td>\n",
              "      <td>0</td>\n",
              "      <td>0</td>\n",
              "      <td>0</td>\n",
              "      <td>0</td>\n",
              "      <td>0</td>\n",
              "      <td>0</td>\n",
              "      <td>0</td>\n",
              "      <td>0</td>\n",
              "    </tr>\n",
              "    <tr>\n",
              "      <th>1</th>\n",
              "      <td>2</td>\n",
              "      <td>GoldenEye (1995)</td>\n",
              "      <td>01-Jan-1995</td>\n",
              "      <td>NaN</td>\n",
              "      <td>http://us.imdb.com/M/title-exact?GoldenEye%20(...</td>\n",
              "      <td>0</td>\n",
              "      <td>1</td>\n",
              "      <td>1</td>\n",
              "      <td>0</td>\n",
              "      <td>0</td>\n",
              "      <td>...</td>\n",
              "      <td>0</td>\n",
              "      <td>0</td>\n",
              "      <td>0</td>\n",
              "      <td>0</td>\n",
              "      <td>0</td>\n",
              "      <td>0</td>\n",
              "      <td>0</td>\n",
              "      <td>1</td>\n",
              "      <td>0</td>\n",
              "      <td>0</td>\n",
              "    </tr>\n",
              "    <tr>\n",
              "      <th>2</th>\n",
              "      <td>3</td>\n",
              "      <td>Four Rooms (1995)</td>\n",
              "      <td>01-Jan-1995</td>\n",
              "      <td>NaN</td>\n",
              "      <td>http://us.imdb.com/M/title-exact?Four%20Rooms%...</td>\n",
              "      <td>0</td>\n",
              "      <td>0</td>\n",
              "      <td>0</td>\n",
              "      <td>0</td>\n",
              "      <td>0</td>\n",
              "      <td>...</td>\n",
              "      <td>0</td>\n",
              "      <td>0</td>\n",
              "      <td>0</td>\n",
              "      <td>0</td>\n",
              "      <td>0</td>\n",
              "      <td>0</td>\n",
              "      <td>0</td>\n",
              "      <td>1</td>\n",
              "      <td>0</td>\n",
              "      <td>0</td>\n",
              "    </tr>\n",
              "    <tr>\n",
              "      <th>3</th>\n",
              "      <td>4</td>\n",
              "      <td>Get Shorty (1995)</td>\n",
              "      <td>01-Jan-1995</td>\n",
              "      <td>NaN</td>\n",
              "      <td>http://us.imdb.com/M/title-exact?Get%20Shorty%...</td>\n",
              "      <td>0</td>\n",
              "      <td>1</td>\n",
              "      <td>0</td>\n",
              "      <td>0</td>\n",
              "      <td>0</td>\n",
              "      <td>...</td>\n",
              "      <td>0</td>\n",
              "      <td>0</td>\n",
              "      <td>0</td>\n",
              "      <td>0</td>\n",
              "      <td>0</td>\n",
              "      <td>0</td>\n",
              "      <td>0</td>\n",
              "      <td>0</td>\n",
              "      <td>0</td>\n",
              "      <td>0</td>\n",
              "    </tr>\n",
              "    <tr>\n",
              "      <th>4</th>\n",
              "      <td>5</td>\n",
              "      <td>Copycat (1995)</td>\n",
              "      <td>01-Jan-1995</td>\n",
              "      <td>NaN</td>\n",
              "      <td>http://us.imdb.com/M/title-exact?Copycat%20(1995)</td>\n",
              "      <td>0</td>\n",
              "      <td>0</td>\n",
              "      <td>0</td>\n",
              "      <td>0</td>\n",
              "      <td>0</td>\n",
              "      <td>...</td>\n",
              "      <td>0</td>\n",
              "      <td>0</td>\n",
              "      <td>0</td>\n",
              "      <td>0</td>\n",
              "      <td>0</td>\n",
              "      <td>0</td>\n",
              "      <td>0</td>\n",
              "      <td>1</td>\n",
              "      <td>0</td>\n",
              "      <td>0</td>\n",
              "    </tr>\n",
              "  </tbody>\n",
              "</table>\n",
              "<p>5 rows × 24 columns</p>\n",
              "</div>"
            ],
            "text/plain": [
              "   movie_id        movie_title release_date  video_release_date,  \\\n",
              "0         1   Toy Story (1995)  01-Jan-1995                  NaN   \n",
              "1         2   GoldenEye (1995)  01-Jan-1995                  NaN   \n",
              "2         3  Four Rooms (1995)  01-Jan-1995                  NaN   \n",
              "3         4  Get Shorty (1995)  01-Jan-1995                  NaN   \n",
              "4         5     Copycat (1995)  01-Jan-1995                  NaN   \n",
              "\n",
              "                                            imdb_url  unknown  Action  \\\n",
              "0  http://us.imdb.com/M/title-exact?Toy%20Story%2...        0       0   \n",
              "1  http://us.imdb.com/M/title-exact?GoldenEye%20(...        0       1   \n",
              "2  http://us.imdb.com/M/title-exact?Four%20Rooms%...        0       0   \n",
              "3  http://us.imdb.com/M/title-exact?Get%20Shorty%...        0       1   \n",
              "4  http://us.imdb.com/M/title-exact?Copycat%20(1995)        0       0   \n",
              "\n",
              "   Adventure  Animation  Children's  ...  Fantasy  Film-Noir  Horror  Musical  \\\n",
              "0          0          1           1  ...        0          0       0        0   \n",
              "1          1          0           0  ...        0          0       0        0   \n",
              "2          0          0           0  ...        0          0       0        0   \n",
              "3          0          0           0  ...        0          0       0        0   \n",
              "4          0          0           0  ...        0          0       0        0   \n",
              "\n",
              "   Mystery  Romance  Sci-Fi  Thriller  War  Western  \n",
              "0        0        0       0         0    0        0  \n",
              "1        0        0       0         1    0        0  \n",
              "2        0        0       0         1    0        0  \n",
              "3        0        0       0         0    0        0  \n",
              "4        0        0       0         1    0        0  \n",
              "\n",
              "[5 rows x 24 columns]"
            ]
          },
          "execution_count": 5,
          "metadata": {},
          "output_type": "execute_result"
        }
      ],
      "source": [
        "genres = pd.read_csv('/home/dmitrii/vscode_projects/PMLDL/Assignment2/data/raw/ml-100k/u.genre',\n",
        "                    names=[\"genre\", \"index\"],\n",
        "                    sep='|')\n",
        "genres_list = genres.genre.to_list()\n",
        "\n",
        "user_item_names = ['movie_id', 'movie_title', 'release_date', 'video_release_date,', 'imdb_url']\n",
        "user_item_names.extend(genres_list)\n",
        "user_item = pd.read_csv(\n",
        "    \"/home/dmitrii/vscode_projects/PMLDL/Assignment2/data/raw/ml-100k/u.item\", \n",
        "    sep='|',\n",
        "    encoding='latin-1',\n",
        "    index_col=False,\n",
        "    names=user_item_names\n",
        ")\n",
        "\n",
        "user_item.head()"
      ]
    },
    {
      "cell_type": "code",
      "execution_count": 6,
      "id": "f320fd56",
      "metadata": {
        "id": "f320fd56"
      },
      "outputs": [],
      "source": [
        "class MovieDataset(Dataset):\n",
        "    \"\"\"\n",
        "    Custom Movie Dataset. \n",
        "    \"\"\"\n",
        "    def __init__(self, user_ids, movie_ids, ratings):\n",
        "        \"\"\"\n",
        "        Args:\n",
        "            user_ids: ids of users\n",
        "            movie_ids: ids of movies\n",
        "            ratings: ratings of the corresponding movies\n",
        "        \"\"\"\n",
        "        self.user_ids = user_ids\n",
        "        self.movie_ids = movie_ids\n",
        "        self.ratings = ratings\n",
        "\n",
        "    def __len__(self):\n",
        "        \"\"\"\n",
        "        Returns length of the dataset\n",
        "\n",
        "        Returns:\n",
        "            _type_: int\n",
        "        \"\"\"\n",
        "        return len(self.user_ids)\n",
        "\n",
        "    def __getitem__(self, idx):\n",
        "        \"\"\"\n",
        "        Args:\n",
        "            idx (int): index of the required item\n",
        "\n",
        "        Returns:\n",
        "            _type_: dict\n",
        "            user_ids: ids of the users\n",
        "            movie_ids: ids of the movies\n",
        "            ratings: ratings of the corresponding movies\n",
        "        \"\"\"\n",
        "        sample = {\n",
        "            \"user_ids\": torch.tensor(self.user_ids[idx], dtype=torch.long),\n",
        "            \"movie_ids\": torch.tensor(self.movie_ids[idx], dtype=torch.long),\n",
        "            \"ratings\": torch.tensor(self.ratings[idx], dtype=torch.float32)\n",
        "        }\n",
        "        return sample"
      ]
    },
    {
      "cell_type": "code",
      "execution_count": 7,
      "id": "734cd10c",
      "metadata": {
        "id": "734cd10c"
      },
      "outputs": [],
      "source": [
        "class RecommendationModel(nn.Module):\n",
        "    def __init__(self, n_users, n_movies):\n",
        "        \"\"\"\n",
        "        Args:\n",
        "            n_users (int): number of unique users\n",
        "            n_movies (int): number of unique movies\n",
        "        \"\"\"\n",
        "        super().__init__()\n",
        "\n",
        "        self.user_embed = nn.Embedding(n_users, 96)\n",
        "        self.movie_embed = nn.Embedding(n_movies, 64)\n",
        "\n",
        "        self.fc1 = nn.Linear(160, 32)\n",
        "        self.drop1 = nn.Dropout(p=0.5)\n",
        "        self.relu1 = nn.ReLU()\n",
        "        self.fc2 = nn.Linear(32, 32)\n",
        "        self.drop2 = nn.Dropout(p=0.5)\n",
        "        self.relu2 = nn.ReLU()\n",
        "        self.fc3 = nn.Linear(32, 1)\n",
        "\n",
        "\n",
        "    def forward(self, users, movies):\n",
        "        \"\"\"\n",
        "        Forward function\n",
        "\n",
        "        Args:\n",
        "            users (torch.Tensor): ids of users\n",
        "            movies (torch.Tensor): ids of movies\n",
        "\n",
        "        Returns:\n",
        "            float: rating of the input movie\n",
        "        \"\"\"\n",
        "\n",
        "        # Embedding of user id\n",
        "        user_id_embeds = self.user_embed(users)\n",
        "        # Embedding of movie id\n",
        "        movie_id_embeds = self.movie_embed(movies)\n",
        "\n",
        "        x = torch.cat([user_id_embeds, movie_id_embeds], dim=1)\n",
        "\n",
        "        x = self.fc1(x)\n",
        "        x = self.drop1(x)\n",
        "        x = self.relu1(x)\n",
        "        x = self.fc2(x)\n",
        "        x = self.drop2(x)\n",
        "        x = self.relu2(x)\n",
        "        x = self.fc3(x)\n",
        "\n",
        "        return x"
      ]
    },
    {
      "cell_type": "code",
      "execution_count": 8,
      "id": "449fe44b",
      "metadata": {
        "id": "449fe44b"
      },
      "outputs": [],
      "source": [
        "label_encoder_user = preprocessing.LabelEncoder()\n",
        "label_encoder_movie = preprocessing.LabelEncoder()\n",
        "\n",
        "user_data.user_id = label_encoder_user.fit_transform(user_data.user_id.values)\n",
        "user_data.movie_id = label_encoder_movie.fit_transform(user_data.movie_id.values)"
      ]
    },
    {
      "cell_type": "code",
      "execution_count": 9,
      "metadata": {},
      "outputs": [
        {
          "data": {
            "text/html": [
              "<div>\n",
              "<style scoped>\n",
              "    .dataframe tbody tr th:only-of-type {\n",
              "        vertical-align: middle;\n",
              "    }\n",
              "\n",
              "    .dataframe tbody tr th {\n",
              "        vertical-align: top;\n",
              "    }\n",
              "\n",
              "    .dataframe thead th {\n",
              "        text-align: right;\n",
              "    }\n",
              "</style>\n",
              "<table border=\"1\" class=\"dataframe\">\n",
              "  <thead>\n",
              "    <tr style=\"text-align: right;\">\n",
              "      <th></th>\n",
              "      <th>user_id</th>\n",
              "      <th>movie_id</th>\n",
              "      <th>rating</th>\n",
              "      <th>timestamp</th>\n",
              "    </tr>\n",
              "  </thead>\n",
              "  <tbody>\n",
              "    <tr>\n",
              "      <th>0</th>\n",
              "      <td>195</td>\n",
              "      <td>241</td>\n",
              "      <td>3</td>\n",
              "      <td>881250949</td>\n",
              "    </tr>\n",
              "    <tr>\n",
              "      <th>1</th>\n",
              "      <td>185</td>\n",
              "      <td>301</td>\n",
              "      <td>3</td>\n",
              "      <td>891717742</td>\n",
              "    </tr>\n",
              "    <tr>\n",
              "      <th>2</th>\n",
              "      <td>21</td>\n",
              "      <td>376</td>\n",
              "      <td>1</td>\n",
              "      <td>878887116</td>\n",
              "    </tr>\n",
              "    <tr>\n",
              "      <th>3</th>\n",
              "      <td>243</td>\n",
              "      <td>50</td>\n",
              "      <td>2</td>\n",
              "      <td>880606923</td>\n",
              "    </tr>\n",
              "    <tr>\n",
              "      <th>4</th>\n",
              "      <td>165</td>\n",
              "      <td>345</td>\n",
              "      <td>1</td>\n",
              "      <td>886397596</td>\n",
              "    </tr>\n",
              "  </tbody>\n",
              "</table>\n",
              "</div>"
            ],
            "text/plain": [
              "   user_id  movie_id  rating  timestamp\n",
              "0      195       241       3  881250949\n",
              "1      185       301       3  891717742\n",
              "2       21       376       1  878887116\n",
              "3      243        50       2  880606923\n",
              "4      165       345       1  886397596"
            ]
          },
          "execution_count": 9,
          "metadata": {},
          "output_type": "execute_result"
        }
      ],
      "source": [
        "user_data.head()"
      ]
    },
    {
      "cell_type": "code",
      "execution_count": 10,
      "metadata": {},
      "outputs": [],
      "source": [
        "# Let's split dataset into train and validation sets\n",
        "train_split, val_split = train_test_split(\n",
        "    user_data, test_size=0.4, random_state=seed, stratify=user_data.rating.values\n",
        ")\n",
        "\n",
        "val_split, test_split = train_test_split(\n",
        "    val_split, test_size=0.5, random_state=seed, stratify=val_split.rating.values\n",
        ")"
      ]
    },
    {
      "cell_type": "code",
      "execution_count": 11,
      "metadata": {},
      "outputs": [],
      "source": [
        "test_split.to_csv('../benchmark/data/test_dataset.csv')"
      ]
    },
    {
      "cell_type": "code",
      "execution_count": 12,
      "metadata": {},
      "outputs": [],
      "source": [
        "# Let's create train dataset\n",
        "train_dataset = MovieDataset(\n",
        "    user_ids=train_split.user_id.values,\n",
        "    movie_ids=train_split.movie_id.values,\n",
        "    ratings=train_split.rating.values,\n",
        ")\n",
        "\n",
        "# Creating valid dataset\n",
        "valid_dataset = MovieDataset(\n",
        "    user_ids=val_split.user_id.values,\n",
        "    movie_ids=val_split.movie_id.values,\n",
        "    ratings=val_split.rating.values,\n",
        ")\n",
        "\n",
        "# Creating test dataset\n",
        "test_dataset = MovieDataset(\n",
        "    user_ids=test_split.user_id.values,\n",
        "    movie_ids=test_split.movie_id.values,\n",
        "    ratings=test_split.rating.values,\n",
        ")"
      ]
    },
    {
      "cell_type": "code",
      "execution_count": 13,
      "metadata": {},
      "outputs": [],
      "source": [
        "train_batch_size = 16\n",
        "test_batch_size = 16\n",
        "epochs = 5"
      ]
    },
    {
      "cell_type": "code",
      "execution_count": 14,
      "id": "93cb38b9",
      "metadata": {
        "id": "93cb38b9",
        "outputId": "dbd7ddda-283b-4a6e-d451-15bddc3de4fb"
      },
      "outputs": [],
      "source": [
        "# Creating train dataloader\n",
        "train_loader = DataLoader(\n",
        "    dataset=train_dataset,\n",
        "    batch_size=train_batch_size,\n",
        "    shuffle=True,\n",
        "    num_workers=2\n",
        ")\n",
        "\n",
        "# Creating valid dataloader\n",
        "valid_loader = DataLoader(\n",
        "    dataset=valid_dataset,\n",
        "    batch_size=test_batch_size,\n",
        "    shuffle=False,\n",
        "    num_workers=2,\n",
        "    drop_last=True\n",
        ")\n",
        "\n",
        "test_loader = DataLoader(\n",
        "    dataset=test_dataset,\n",
        "    batch_size=test_batch_size,\n",
        "    shuffle=False,\n",
        "    num_workers=2,\n",
        "    drop_last=True\n",
        ")"
      ]
    },
    {
      "cell_type": "code",
      "execution_count": 15,
      "id": "8e56ab7a",
      "metadata": {
        "id": "8e56ab7a"
      },
      "outputs": [],
      "source": [
        "# Neural network\n",
        "model = RecommendationModel(\n",
        "    n_users=len(label_encoder_user.classes_),\n",
        "    n_movies=len(label_encoder_movie.classes_),\n",
        ").to(device)\n",
        "\n",
        "optimizer = torch.optim.Adam(model.parameters(), lr=1e-3)\n",
        "loss_func = nn.MSELoss()\n"
      ]
    },
    {
      "cell_type": "markdown",
      "id": "17324203",
      "metadata": {
        "id": "17324203"
      },
      "source": [
        "#### Run the training loop"
      ]
    },
    {
      "cell_type": "code",
      "execution_count": 16,
      "id": "240e944b",
      "metadata": {
        "id": "240e944b",
        "outputId": "de5d34dd-55c1-46e2-f1d9-a63906b4d953"
      },
      "outputs": [],
      "source": [
        "from tqdm import tqdm\n",
        "\n",
        "def train_model(model, train_loader, valid_loader, optimizer, loss_func):\n",
        "    best_val_loss = 10000\n",
        "\n",
        "    train_loss_list = []\n",
        "    valid_loss_list = []\n",
        "\n",
        "    model.train()\n",
        "    for epoch in range(epochs):\n",
        "        train_running_loss = 0\n",
        "        for train_data in tqdm(train_loader):\n",
        "            output = model(\n",
        "                train_data[\"user_ids\"].to(device),\n",
        "                train_data[\"movie_ids\"].to(device)\n",
        "                        )\n",
        "\n",
        "            rating = train_data[\"ratings\"].view(train_batch_size, -1).to(torch.float32).to(device)\n",
        "\n",
        "            loss = torch.sqrt(loss_func(output, rating))\n",
        "            train_running_loss += loss.sum().item()\n",
        "            optimizer.zero_grad()\n",
        "            loss.backward()\n",
        "            optimizer.step()\n",
        "\n",
        "        model.eval()\n",
        "        valid_running_loss = 0\n",
        "        with torch.no_grad():\n",
        "            for valid_data in tqdm(valid_loader):\n",
        "                output = model(\n",
        "                    valid_data[\"user_ids\"].to(device),\n",
        "                    valid_data[\"movie_ids\"].to(device)\n",
        "                            )\n",
        "                rating = valid_data[\"ratings\"].view(test_batch_size, -1).to(torch.float32).to(device)\n",
        "                loss = torch.sqrt(loss_func(output, rating))\n",
        "                valid_running_loss += loss.sum().item()\n",
        "\n",
        "        if valid_running_loss < best_val_loss:\n",
        "                best_val_loss = valid_running_loss\n",
        "                torch.save(model.state_dict(), '../models/best_model.pth')\n",
        "        \n",
        "        train_loss_list.append(train_running_loss/len(train_loader))\n",
        "        valid_loss_list.append(valid_running_loss/len(valid_loader))\n",
        "\n",
        "        print(f\"Epoch {epoch+1} RMSE Train: {train_running_loss/len(train_loader)}\")\n",
        "        print(f\"Epoch {epoch+1} RMSE Val: {valid_running_loss/len(valid_loader)}\")\n",
        "    return train_loss_list, valid_loss_list"
      ]
    },
    {
      "cell_type": "code",
      "execution_count": 17,
      "metadata": {},
      "outputs": [
        {
          "name": "stderr",
          "output_type": "stream",
          "text": [
            "100%|██████████| 3750/3750 [00:16<00:00, 220.65it/s]\n",
            "100%|██████████| 1250/1250 [00:02<00:00, 453.44it/s]\n"
          ]
        },
        {
          "name": "stdout",
          "output_type": "stream",
          "text": [
            "Epoch 1 RMSE Train: 1.3410077187856038\n",
            "Epoch 1 RMSE Val: 1.035414297914505\n"
          ]
        },
        {
          "name": "stderr",
          "output_type": "stream",
          "text": [
            "100%|██████████| 3750/3750 [00:15<00:00, 239.62it/s]\n",
            "100%|██████████| 1250/1250 [00:02<00:00, 540.41it/s]\n"
          ]
        },
        {
          "name": "stdout",
          "output_type": "stream",
          "text": [
            "Epoch 2 RMSE Train: 0.9861795550187429\n",
            "Epoch 2 RMSE Val: 0.9683585852384567\n"
          ]
        },
        {
          "name": "stderr",
          "output_type": "stream",
          "text": [
            "100%|██████████| 3750/3750 [00:13<00:00, 283.23it/s]\n",
            "100%|██████████| 1250/1250 [00:02<00:00, 467.85it/s]\n"
          ]
        },
        {
          "name": "stdout",
          "output_type": "stream",
          "text": [
            "Epoch 3 RMSE Train: 0.938709011220932\n",
            "Epoch 3 RMSE Val: 0.9460544757843018\n"
          ]
        },
        {
          "name": "stderr",
          "output_type": "stream",
          "text": [
            "100%|██████████| 3750/3750 [00:13<00:00, 276.56it/s]\n",
            "100%|██████████| 1250/1250 [00:01<00:00, 628.87it/s]\n"
          ]
        },
        {
          "name": "stdout",
          "output_type": "stream",
          "text": [
            "Epoch 4 RMSE Train: 0.9144578082720438\n",
            "Epoch 4 RMSE Val: 0.9393261590480805\n"
          ]
        },
        {
          "name": "stderr",
          "output_type": "stream",
          "text": [
            "100%|██████████| 3750/3750 [00:15<00:00, 243.99it/s]\n",
            "100%|██████████| 1250/1250 [00:03<00:00, 414.61it/s]"
          ]
        },
        {
          "name": "stdout",
          "output_type": "stream",
          "text": [
            "Epoch 5 RMSE Train: 0.8953319104830424\n",
            "Epoch 5 RMSE Val: 0.9390732069969178\n"
          ]
        },
        {
          "name": "stderr",
          "output_type": "stream",
          "text": [
            "\n"
          ]
        }
      ],
      "source": [
        "train_loss_list, valid_loss_list = train_model(model, train_loader, valid_loader, optimizer, loss_func)"
      ]
    },
    {
      "cell_type": "code",
      "execution_count": 18,
      "id": "2a482ed3",
      "metadata": {
        "id": "2a482ed3",
        "outputId": "23e4592c-8f3a-407b-cabc-7a1876bb1640"
      },
      "outputs": [
        {
          "data": {
            "image/png": "[encoded data removed]",
            "text/plain": [
              "<Figure size 640x480 with 1 Axes>"
            ]
          },
          "metadata": {},
          "output_type": "display_data"
        }
      ],
      "source": [
        "plt.figure()\n",
        "plt.plot(valid_loss_list)\n",
        "plt.plot(train_loss_list)\n",
        "plt.show()"
      ]
    },
    {
      "cell_type": "code",
      "execution_count": 19,
      "id": "6b127d77",
      "metadata": {
        "id": "6b127d77",
        "outputId": "fbad29ee-4063-4846-ce78-53b8f9758570"
      },
      "outputs": [],
      "source": [
        "from collections import defaultdict\n",
        "\n",
        "def get_rating_pairs(valid_loader, model):\n",
        "    rating_pairs = defaultdict(list)\n",
        "\n",
        "    with torch.no_grad():\n",
        "        for data in valid_loader:\n",
        "            user_ids = data['user_ids']\n",
        "            movie_ids = data['movie_ids']\n",
        "            ratings = data['ratings']\n",
        "\n",
        "            output = model(\n",
        "                user_ids.to(device), \n",
        "                movie_ids.to(device)\n",
        "            )\n",
        "\n",
        "            for i in range(len(user_ids)):\n",
        "                user_id = user_ids[i].item()\n",
        "                movie_id = user_ids[i].item()\n",
        "                pred_rating = output[i][0].item()\n",
        "                true_rating = ratings[i].item()\n",
        "\n",
        "                rating_pair = {\n",
        "                    'movie_id': movie_id,\n",
        "                    \"predicted_rating\": pred_rating,\n",
        "                    \"true_rating\": true_rating\n",
        "                }\n",
        "                rating_pairs[user_id].append(rating_pair)\n",
        "    return rating_pairs"
      ]
    },
    {
      "cell_type": "code",
      "execution_count": 20,
      "metadata": {},
      "outputs": [],
      "source": [
        "rating_pairs = get_rating_pairs(valid_loader, model)"
      ]
    },
    {
      "cell_type": "code",
      "execution_count": 21,
      "metadata": {},
      "outputs": [],
      "source": [
        "def test_model(model, test_loader, loss_func):\n",
        "    test_running_loss = 0\n",
        "    with torch.no_grad():\n",
        "        for test_data in tqdm(test_loader):\n",
        "            output = model(\n",
        "                test_data[\"user_ids\"].to(device),\n",
        "                test_data[\"movie_ids\"].to(device)\n",
        "                        )\n",
        "            rating = test_data[\"ratings\"].view(test_batch_size, -1).to(torch.float32).to(device)\n",
        "            loss = torch.sqrt(loss_func(output, rating))\n",
        "            test_running_loss += loss.sum().item()\n",
        "    print(test_running_loss/len(test_loader))"
      ]
    },
    {
      "cell_type": "code",
      "execution_count": 22,
      "metadata": {},
      "outputs": [
        {
          "name": "stderr",
          "output_type": "stream",
          "text": [
            "100%|██████████| 1250/1250 [00:02<00:00, 602.18it/s]"
          ]
        },
        {
          "name": "stdout",
          "output_type": "stream",
          "text": [
            "0.9468653615474701\n"
          ]
        },
        {
          "name": "stderr",
          "output_type": "stream",
          "text": [
            "\n"
          ]
        }
      ],
      "source": [
        "test_model(model, test_loader, loss_func)"
      ]
    },
    {
      "cell_type": "code",
      "execution_count": 23,
      "id": "f2d3dd18",
      "metadata": {
        "id": "f2d3dd18",
        "outputId": "11f03a50-58b9-4cf1-800a-380d565b9d38"
      },
      "outputs": [],
      "source": [
        "def calculate_metrics(rating_pairs, k=10, threshold=3.5):\n",
        "    precisions = {}\n",
        "    recalls = {}\n",
        "    for user_id, rating in rating_pairs.items():\n",
        "\n",
        "        # Choosing the best movies based on predicted rating\n",
        "        rating.sort(key=lambda x: x['predicted_rating'], reverse=True)\n",
        "\n",
        "        # Let's calculate total number of relevant items\n",
        "        \n",
        "        total_relevant = sum(x['true_rating'] >= threshold for x in rating)\n",
        "\n",
        "        # Number of top@k predicted relevant items\n",
        "        n_rec_k = sum(x['predicted_rating'] >= threshold for x in rating[:k])\n",
        "\n",
        "        # Number of recommended item @k that are relevant\n",
        "        n_rel_and_rec_k = sum(\n",
        "            ((x['true_rating'] >= threshold) and (x['predicted_rating'] >= threshold))\n",
        "            for x in rating[:k]\n",
        "        )\n",
        "\n",
        "        precisions[user_id] = 0\n",
        "        recalls[user_id] = 0\n",
        "        if n_rec_k != 0:\n",
        "            precisions[user_id] = n_rel_and_rec_k / n_rec_k\n",
        "\n",
        "        if total_relevant != 0:\n",
        "            recalls[user_id] = n_rel_and_rec_k / total_relevant\n",
        "                \n",
        "    print(f\"precision @ {k}: {sum(prec for prec in precisions.values()) / len(precisions)}\")\n",
        "    print(f\"recall @ {k} : {sum(rec for rec in recalls.values()) / len(recalls)}\")\n",
        "    return precisions, recalls"
      ]
    },
    {
      "cell_type": "code",
      "execution_count": 24,
      "metadata": {},
      "outputs": [
        {
          "name": "stdout",
          "output_type": "stream",
          "text": [
            "precision @ 10: 0.6856733802270458\n",
            "recall @ 10 : 0.5177347709922385\n"
          ]
        }
      ],
      "source": [
        "precisions, recalls = calculate_metrics(rating_pairs)"
      ]
    },
    {
      "cell_type": "code",
      "execution_count": 25,
      "metadata": {},
      "outputs": [],
      "source": [
        "class TestMovieDataset(Dataset):\n",
        "    \"\"\"\n",
        "    Custom Movie Dataset. \n",
        "    \"\"\"\n",
        "    def __init__(self, user_ids, movie_ids):\n",
        "        \"\"\"\n",
        "        Args:\n",
        "            user_ids: ids of users\n",
        "            movie_ids: ids of movies\n",
        "        \"\"\"\n",
        "        self.user_ids = user_ids\n",
        "        self.movie_ids = movie_ids\n",
        "\n",
        "    def __len__(self):\n",
        "        \"\"\"\n",
        "        Returns length of the dataset\n",
        "\n",
        "        Returns:\n",
        "            _type_: int\n",
        "        \"\"\"\n",
        "        return len(self.user_ids)\n",
        "\n",
        "    def __getitem__(self, idx):\n",
        "        \"\"\"\n",
        "        Args:\n",
        "            idx (int): index of the required item\n",
        "\n",
        "        Returns:\n",
        "            _type_: dict\n",
        "            user_ids: ids of the users\n",
        "            movie_ids: ids of the movies\n",
        "            ratings: ratings of the corresponding movies\n",
        "        \"\"\"\n",
        "        sample = {\n",
        "            \"user_ids\": torch.tensor(self.user_ids[idx], dtype=torch.long),\n",
        "            \"movie_ids\": torch.tensor(self.movie_ids[idx], dtype=torch.long),\n",
        "        }\n",
        "        return sample"
      ]
    },
    {
      "cell_type": "code",
      "execution_count": 26,
      "metadata": {},
      "outputs": [],
      "source": [
        "def recommend_movies(user_data, model, user_id=10, k=10):\n",
        "    \"\"\"This function recommends unwatched movies to a user\n",
        "\n",
        "    Args:\n",
        "        user_data (pandas Dataframe): Dataframe that contains data about movies, users and ratings\n",
        "        model: neural nerwork used for prediction\n",
        "        user_id (int): id of user. Defaults to 10.\n",
        "        k (int): number of suggested movies. Defaults to 10.\n",
        "    \"\"\"\n",
        "    # Let's find out which movies were watched\n",
        "    watched_movies = user_data[user_data['user_id'] == user_id].movie_id\n",
        "    unwatched_movie_ids = [x for x in user_data.movie_id.unique() if x not in watched_movies]\n",
        "    user_ids = [user_id] * len(unwatched_movie_ids)\n",
        "\n",
        "    # Let's find unwatched movies\n",
        "    unwatched_movies_dataset = TestMovieDataset(user_ids, unwatched_movie_ids)\n",
        "    unwatched_movies_dataloader = DataLoader(\n",
        "        dataset=unwatched_movies_dataset,\n",
        "        batch_size=test_batch_size,\n",
        "        shuffle=False,\n",
        "        num_workers=2,\n",
        "        drop_last=True\n",
        "    )\n",
        "\n",
        "    predicted_ratings = []\n",
        "\n",
        "    # Let's predict ratings\n",
        "    with torch.no_grad():\n",
        "        for data in unwatched_movies_dataloader:\n",
        "            user_ids = data['user_ids']\n",
        "            movie_ids = data['movie_ids']\n",
        "\n",
        "            output = model(\n",
        "                user_ids.to(device), \n",
        "                movie_ids.to(device)\n",
        "            ).reshape(-1)\n",
        "\n",
        "            pair = zip(movie_ids.tolist(), output.tolist())\n",
        "            predicted_ratings.extend(pair)\n",
        "    # Let's sort ratings to find top-k movies\n",
        "    predicted_ratings.sort(key=lambda x: x[1], reverse=True)\n",
        "    df_ratings = [x[1] for x in predicted_ratings[:k]]\n",
        "\n",
        "    df_columns = [\"movie_id\", \"movie_title\"]\n",
        "    out_list = []\n",
        "\n",
        "    for x in predicted_ratings[:k]:\n",
        "        out_list.append(user_item[user_item[\"movie_id\"]==x[0]][df_columns])\n",
        "    df = pd.concat(out_list)\n",
        "    df[\"rating\"] = df_ratings\n",
        "    print(f\"User Id: {user_id}\")\n",
        "    print(tabulate(df, headers='keys', tablefmt='psql', showindex=False))\n"
      ]
    },
    {
      "cell_type": "code",
      "execution_count": 27,
      "metadata": {},
      "outputs": [
        {
          "name": "stdout",
          "output_type": "stream",
          "text": [
            "User Id: 10\n",
            "+------------+---------------------------------------------+----------+\n",
            "|   movie_id | movie_title                                 |   rating |\n",
            "|------------+---------------------------------------------+----------|\n",
            "|        314 | 3 Ninjas: High Noon At Mega Mountain (1998) |  4.69503 |\n",
            "|         11 | Seven (Se7en) (1995)                        |  4.49574 |\n",
            "|        356 | Client, The (1994)                          |  4.4096  |\n",
            "|        426 | Transformers: The Movie, The (1986)         |  4.40918 |\n",
            "|        317 | In the Name of the Father (1993)            |  4.40259 |\n",
            "|        133 | Gone with the Wind (1939)                   |  4.38433 |\n",
            "|        173 | Princess Bride, The (1987)                  |  4.36835 |\n",
            "|         63 | Santa Clause, The (1994)                    |  4.36796 |\n",
            "|        168 | Monty Python and the Holy Grail (1974)      |  4.31899 |\n",
            "|        407 | Spy Hard (1996)                             |  4.31507 |\n",
            "+------------+---------------------------------------------+----------+\n"
          ]
        }
      ],
      "source": [
        "recommend_movies(user_data, model, user_id=10, k=10)"
      ]
    },
    {
      "cell_type": "code",
      "execution_count": null,
      "metadata": {},
      "outputs": [],
      "source": []
    },
    {
      "cell_type": "code",
      "execution_count": null,
      "metadata": {},
      "outputs": [],
      "source": []
    }
  ],
  "metadata": {
    "colab": {
      "provenance": []
    },
    "kernelspec": {
      "display_name": "Python 3 (ipykernel)",
      "language": "python",
      "name": "python3"
    },
    "language_info": {
      "codemirror_mode": {
        "name": "ipython",
        "version": 3
      },
      "file_extension": ".py",
      "mimetype": "text/x-python",
      "name": "python",
      "nbconvert_exporter": "python",
      "pygments_lexer": "ipython3",
      "version": "3.11.5"
    }
  },
  "nbformat": 4,
  "nbformat_minor": 5
}
