{
 "cells": [
  {
   "cell_type": "code",
   "execution_count": 69,
   "metadata": {},
   "outputs": [],
   "source": [
    "import pandas as pd\n",
    "import torch\n",
    "import torch.nn as nn\n",
    "from sklearn import preprocessing\n",
    "import matplotlib.pyplot as plt\n",
    "from torch.utils.data import Dataset, DataLoader\n",
    "import random\n",
    "from tabulate import tabulate\n",
    "from tqdm import tqdm"
   ]
  },
  {
   "cell_type": "code",
   "execution_count": 70,
   "metadata": {},
   "outputs": [
    {
     "name": "stdout",
     "output_type": "stream",
     "text": [
      "cuda\n"
     ]
    }
   ],
   "source": [
    "device = torch.device('cuda' if torch.cuda.is_available() else 'cpu')\n",
    "print(device)"
   ]
  },
  {
   "cell_type": "code",
   "execution_count": 71,
   "metadata": {},
   "outputs": [
    {
     "data": {
      "text/html": [
       "<div>\n",
       "<style scoped>\n",
       "    .dataframe tbody tr th:only-of-type {\n",
       "        vertical-align: middle;\n",
       "    }\n",
       "\n",
       "    .dataframe tbody tr th {\n",
       "        vertical-align: top;\n",
       "    }\n",
       "\n",
       "    .dataframe thead th {\n",
       "        text-align: right;\n",
       "    }\n",
       "</style>\n",
       "<table border=\"1\" class=\"dataframe\">\n",
       "  <thead>\n",
       "    <tr style=\"text-align: right;\">\n",
       "      <th></th>\n",
       "      <th>Unnamed: 0</th>\n",
       "      <th>user_id</th>\n",
       "      <th>movie_id</th>\n",
       "      <th>rating</th>\n",
       "      <th>timestamp</th>\n",
       "    </tr>\n",
       "  </thead>\n",
       "  <tbody>\n",
       "    <tr>\n",
       "      <th>0</th>\n",
       "      <td>62812</td>\n",
       "      <td>888</td>\n",
       "      <td>487</td>\n",
       "      <td>2</td>\n",
       "      <td>880180265</td>\n",
       "    </tr>\n",
       "    <tr>\n",
       "      <th>1</th>\n",
       "      <td>8041</td>\n",
       "      <td>266</td>\n",
       "      <td>6</td>\n",
       "      <td>5</td>\n",
       "      <td>878970503</td>\n",
       "    </tr>\n",
       "    <tr>\n",
       "      <th>2</th>\n",
       "      <td>37057</td>\n",
       "      <td>534</td>\n",
       "      <td>150</td>\n",
       "      <td>4</td>\n",
       "      <td>879618338</td>\n",
       "    </tr>\n",
       "    <tr>\n",
       "      <th>3</th>\n",
       "      <td>65941</td>\n",
       "      <td>756</td>\n",
       "      <td>750</td>\n",
       "      <td>3</td>\n",
       "      <td>888443398</td>\n",
       "    </tr>\n",
       "    <tr>\n",
       "      <th>4</th>\n",
       "      <td>32169</td>\n",
       "      <td>221</td>\n",
       "      <td>1010</td>\n",
       "      <td>4</td>\n",
       "      <td>881061049</td>\n",
       "    </tr>\n",
       "  </tbody>\n",
       "</table>\n",
       "</div>"
      ],
      "text/plain": [
       "   Unnamed: 0  user_id  movie_id  rating  timestamp\n",
       "0       62812      888       487       2  880180265\n",
       "1        8041      266         6       5  878970503\n",
       "2       37057      534       150       4  879618338\n",
       "3       65941      756       750       3  888443398\n",
       "4       32169      221      1010       4  881061049"
      ]
     },
     "execution_count": 71,
     "metadata": {},
     "output_type": "execute_result"
    }
   ],
   "source": [
    "data = pd.read_csv('data/test_dataset.csv')\n",
    "data.head()"
   ]
  },
  {
   "cell_type": "code",
   "execution_count": 72,
   "metadata": {},
   "outputs": [],
   "source": [
    "class RecommendationModel(nn.Module):\n",
    "    def __init__(self, n_users, n_movies):\n",
    "        \"\"\"\n",
    "        Args:\n",
    "            n_users (int): number of unique users\n",
    "            n_movies (int): number of unique movies\n",
    "        \"\"\"\n",
    "        super().__init__()\n",
    "\n",
    "        self.user_embed = nn.Embedding(n_users, 96)\n",
    "        self.movie_embed = nn.Embedding(n_movies, 64)\n",
    "\n",
    "        self.fc1 = nn.Linear(160, 32)\n",
    "        self.drop1 = nn.Dropout(p=0.5)\n",
    "        self.relu1 = nn.ReLU()\n",
    "        self.fc2 = nn.Linear(32, 32)\n",
    "        self.drop2 = nn.Dropout(p=0.5)\n",
    "        self.relu2 = nn.ReLU()\n",
    "        self.fc3 = nn.Linear(32, 1)\n",
    "\n",
    "\n",
    "    def forward(self, users, movies):\n",
    "        \"\"\"\n",
    "        Forward function\n",
    "\n",
    "        Args:\n",
    "            users (torch.Tensor): ids of users\n",
    "            movies (torch.Tensor): ids of movies\n",
    "\n",
    "        Returns:\n",
    "            float: rating of the input movie\n",
    "        \"\"\"\n",
    "\n",
    "        # Embedding of user id\n",
    "        user_id_embeds = self.user_embed(users)\n",
    "        # Embedding of movie id\n",
    "        movie_id_embeds = self.movie_embed(movies)\n",
    "\n",
    "        x = torch.cat([user_id_embeds, movie_id_embeds], dim=1)\n",
    "\n",
    "        x = self.fc1(x)\n",
    "        x = self.drop1(x)\n",
    "        x = self.relu1(x)\n",
    "        x = self.fc2(x)\n",
    "        x = self.drop2(x)\n",
    "        x = self.relu2(x)\n",
    "        x = self.fc3(x)\n",
    "\n",
    "        return x"
   ]
  },
  {
   "cell_type": "code",
   "execution_count": 73,
   "metadata": {},
   "outputs": [],
   "source": [
    "class MovieDataset(Dataset):\n",
    "    \"\"\"\n",
    "    Custom Movie Dataset. \n",
    "    \"\"\"\n",
    "    def __init__(self, user_ids, movie_ids, ratings):\n",
    "        \"\"\"\n",
    "        Args:\n",
    "            user_ids: ids of users\n",
    "            movie_ids: ids of movies\n",
    "            ratings: ratings of the corresponding movies\n",
    "        \"\"\"\n",
    "        self.user_ids = user_ids\n",
    "        self.movie_ids = movie_ids\n",
    "        self.ratings = ratings\n",
    "\n",
    "    def __len__(self):\n",
    "        \"\"\"\n",
    "        Returns length of the dataset\n",
    "\n",
    "        Returns:\n",
    "            _type_: int\n",
    "        \"\"\"\n",
    "        return len(self.user_ids)\n",
    "\n",
    "    def __getitem__(self, idx):\n",
    "        \"\"\"\n",
    "        Args:\n",
    "            idx (int): index of the required item\n",
    "\n",
    "        Returns:\n",
    "            _type_: dict\n",
    "            user_ids: ids of the users\n",
    "            movie_ids: ids of the movies\n",
    "            ratings: ratings of the corresponding movies\n",
    "        \"\"\"\n",
    "        sample = {\n",
    "            \"user_ids\": torch.tensor(self.user_ids[idx], dtype=torch.long),\n",
    "            \"movie_ids\": torch.tensor(self.movie_ids[idx], dtype=torch.long),\n",
    "            \"ratings\": torch.tensor(self.ratings[idx], dtype=torch.float32)\n",
    "        }\n",
    "        return sample"
   ]
  },
  {
   "cell_type": "code",
   "execution_count": 74,
   "metadata": {},
   "outputs": [],
   "source": [
    "test_dataset = MovieDataset(\n",
    "    user_ids=data.user_id.values,\n",
    "    movie_ids=data.movie_id.values,\n",
    "    ratings=data.rating.values,\n",
    ")"
   ]
  },
  {
   "cell_type": "code",
   "execution_count": 75,
   "metadata": {},
   "outputs": [],
   "source": [
    "test_batch_size = 16"
   ]
  },
  {
   "cell_type": "code",
   "execution_count": 76,
   "metadata": {},
   "outputs": [],
   "source": [
    "test_loader = DataLoader(\n",
    "    dataset=test_dataset,\n",
    "    batch_size=test_batch_size,\n",
    "    shuffle=False,\n",
    "    num_workers=2,\n",
    "    drop_last=True\n",
    ")"
   ]
  },
  {
   "cell_type": "code",
   "execution_count": 77,
   "metadata": {},
   "outputs": [],
   "source": [
    "model = RecommendationModel(\n",
    "    n_users=943,\n",
    "    n_movies=1682,\n",
    ").to(device)\n",
    "model_path = '../models/best_model.pth'\n",
    "model.load_state_dict(torch.load(model_path))\n",
    "\n",
    "loss_func = nn.MSELoss()"
   ]
  },
  {
   "cell_type": "code",
   "execution_count": 78,
   "metadata": {},
   "outputs": [],
   "source": [
    "def test_model(model, test_loader, loss_func):\n",
    "    model.eval()\n",
    "    test_running_loss = 0\n",
    "    with torch.no_grad():\n",
    "        for test_data in tqdm(test_loader):\n",
    "            output = model(\n",
    "                test_data[\"user_ids\"].to(device),\n",
    "                test_data[\"movie_ids\"].to(device)\n",
    "                        )\n",
    "            rating = test_data[\"ratings\"].view(test_batch_size, -1).to(torch.float32).to(device)\n",
    "            loss = torch.sqrt(loss_func(output, rating))\n",
    "            test_running_loss += loss.sum().item()\n",
    "    print(f\"Test loss: {test_running_loss/len(test_loader)}\")"
   ]
  },
  {
   "cell_type": "code",
   "execution_count": 79,
   "metadata": {},
   "outputs": [
    {
     "name": "stderr",
     "output_type": "stream",
     "text": [
      "100%|██████████| 1250/1250 [00:03<00:00, 412.02it/s]"
     ]
    },
    {
     "name": "stdout",
     "output_type": "stream",
     "text": [
      "Test loss: 0.9468653615474701\n"
     ]
    },
    {
     "name": "stderr",
     "output_type": "stream",
     "text": [
      "\n"
     ]
    }
   ],
   "source": [
    "test_model(model, test_loader, loss_func)"
   ]
  },
  {
   "cell_type": "code",
   "execution_count": 80,
   "metadata": {},
   "outputs": [],
   "source": [
    "from collections import defaultdict\n",
    "\n",
    "def get_rating_pairs(valid_loader, model):\n",
    "    rating_pairs = defaultdict(list)\n",
    "\n",
    "    with torch.no_grad():\n",
    "        for data in valid_loader:\n",
    "            user_ids = data['user_ids']\n",
    "            movie_ids = data['movie_ids']\n",
    "            ratings = data['ratings']\n",
    "\n",
    "            output = model(\n",
    "                user_ids.to(device), \n",
    "                movie_ids.to(device)\n",
    "            )\n",
    "\n",
    "            for i in range(len(user_ids)):\n",
    "                user_id = user_ids[i].item()\n",
    "                movie_id = user_ids[i].item()\n",
    "                pred_rating = output[i][0].item()\n",
    "                true_rating = ratings[i].item()\n",
    "\n",
    "                rating_pair = {\n",
    "                    'movie_id': movie_id,\n",
    "                    \"predicted_rating\": pred_rating,\n",
    "                    \"true_rating\": true_rating\n",
    "                }\n",
    "                rating_pairs[user_id].append(rating_pair)\n",
    "    return rating_pairs"
   ]
  },
  {
   "cell_type": "code",
   "execution_count": 81,
   "metadata": {},
   "outputs": [],
   "source": [
    "rating_pairs = get_rating_pairs(test_loader, model)"
   ]
  },
  {
   "cell_type": "code",
   "execution_count": 82,
   "metadata": {},
   "outputs": [],
   "source": [
    "def calculate_metrics(rating_pairs, k=10, threshold=3.5):\n",
    "    precisions = {}\n",
    "    recalls = {}\n",
    "    for user_id, rating in rating_pairs.items():\n",
    "\n",
    "        # Choosing the best movies based on predicted rating\n",
    "        rating.sort(key=lambda x: x['predicted_rating'], reverse=True)\n",
    "\n",
    "        # Let's calculate total number of relevant items\n",
    "        \n",
    "        total_relevant = sum(x['true_rating'] >= threshold for x in rating)\n",
    "\n",
    "        # Number of top@k predicted relevant items\n",
    "        n_rec_k = sum(x['predicted_rating'] >= threshold for x in rating[:k])\n",
    "\n",
    "        # Number of recommended item @k that are relevant\n",
    "        n_rel_and_rec_k = sum(\n",
    "            ((x['true_rating'] >= threshold) and (x['predicted_rating'] >= threshold))\n",
    "            for x in rating[:k]\n",
    "        )\n",
    "\n",
    "        precisions[user_id] = 0\n",
    "        recalls[user_id] = 0\n",
    "        if n_rec_k != 0:\n",
    "            precisions[user_id] = n_rel_and_rec_k / n_rec_k\n",
    "\n",
    "        if total_relevant != 0:\n",
    "            recalls[user_id] = n_rel_and_rec_k / total_relevant\n",
    "                \n",
    "    print(f\"precision @ {k}: {sum(prec for prec in precisions.values()) / len(precisions)}\")\n",
    "    print(f\"recall @ {k} : {sum(rec for rec in recalls.values()) / len(recalls)}\")\n",
    "    return precisions, recalls"
   ]
  },
  {
   "cell_type": "code",
   "execution_count": 83,
   "metadata": {},
   "outputs": [
    {
     "name": "stdout",
     "output_type": "stream",
     "text": [
      "precision @ 10: 0.6845010615711244\n",
      "recall @ 10 : 0.5097653159096427\n"
     ]
    }
   ],
   "source": [
    "precisions, recalls = calculate_metrics(rating_pairs)"
   ]
  },
  {
   "cell_type": "code",
   "execution_count": null,
   "metadata": {},
   "outputs": [],
   "source": []
  }
 ],
 "metadata": {
  "kernelspec": {
   "display_name": "movie_rec",
   "language": "python",
   "name": "python3"
  },
  "language_info": {
   "codemirror_mode": {
    "name": "ipython",
    "version": 3
   },
   "file_extension": ".py",
   "mimetype": "text/x-python",
   "name": "python",
   "nbconvert_exporter": "python",
   "pygments_lexer": "ipython3",
   "version": "3.11.5"
  }
 },
 "nbformat": 4,
 "nbformat_minor": 2
}
